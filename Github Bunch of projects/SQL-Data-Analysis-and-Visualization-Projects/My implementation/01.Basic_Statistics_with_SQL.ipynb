{
 "cells": [
  {
   "attachments": {},
   "cell_type": "markdown",
   "metadata": {},
   "source": [
    "# story of the usecase specific example is: ki ye ek compnay, department, employees, their salaries, and so on ki kahani hai."
   ]
  },
  {
   "attachments": {},
   "cell_type": "markdown",
   "metadata": {},
   "source": [
    "# ************ Basic Statistics with SQL ************"
   ]
  },
  {
   "cell_type": "code",
   "execution_count": null,
   "metadata": {},
   "outputs": [],
   "source": [
    "# checking the head of the dataset\n",
    "SELECT * FROM company_divisions\n",
    "LIMIT 5;\n",
    "\n",
    "SELECT * FROM company_regions\n",
    "LIMIT 5;\n",
    "\n",
    "SELECT * FROM staff\n",
    "LIMIT 5;"
   ]
  },
  {
   "cell_type": "code",
   "execution_count": null,
   "metadata": {},
   "outputs": [],
   "source": [
    "# How many total employees are there in the company\n",
    "SELECT COUNT(*) FROM staff;"
   ]
  },
  {
   "cell_type": "code",
   "execution_count": null,
   "metadata": {},
   "outputs": [],
   "source": [
    "# what is gender distribution in the company?\n",
    "SELECT gender, COUNT(*) AS total_employees\n",
    "FROM staff\n",
    "GROUP BY gender;"
   ]
  },
  {
   "cell_type": "code",
   "execution_count": null,
   "metadata": {},
   "outputs": [],
   "source": [
    "# how many employees are there in each department of the company?\n",
    "SELECT department, COUNT(*) AS total_employee\n",
    "FROM staff\n",
    "GROUP BY department\n",
    "ORDER BY department;"
   ]
  },
  {
   "cell_type": "code",
   "execution_count": null,
   "metadata": {},
   "outputs": [],
   "source": [
    "# how many unique departments are there in the company?\n",
    "SELECT DISTINCT(department)\n",
    "FROM staff\n",
    "ORDER BY department;"
   ]
  },
  {
   "cell_type": "code",
   "execution_count": null,
   "metadata": {},
   "outputs": [],
   "source": []
  },
  {
   "cell_type": "code",
   "execution_count": null,
   "metadata": {},
   "outputs": [],
   "source": []
  },
  {
   "cell_type": "code",
   "execution_count": null,
   "metadata": {},
   "outputs": [],
   "source": []
  }
 ],
 "metadata": {
  "kernelspec": {
   "display_name": "Python 3",
   "language": "python",
   "name": "python3"
  },
  "language_info": {
   "name": "python",
   "version": "3.10.10 (tags/v3.10.10:aad5f6a, Feb  7 2023, 17:20:36) [MSC v.1929 64 bit (AMD64)]"
  },
  "orig_nbformat": 4,
  "vscode": {
   "interpreter": {
    "hash": "f2e2420d2af6466ac46d65e7cae12e1763773716a5df9fb9629e3ec3fd0e9e0e"
   }
  }
 },
 "nbformat": 4,
 "nbformat_minor": 2
}
